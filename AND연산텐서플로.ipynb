{
 "cells": [
  {
   "cell_type": "code",
   "execution_count": 1,
   "id": "13a4a3f4-8f60-45ce-89db-855da70508ed",
   "metadata": {},
   "outputs": [],
   "source": [
    "import tensorflow as tf\n",
    "from tensorflow.keras.models import Sequential\n",
    "from tensorflow.keras.layers import Dense\n",
    "from tensorflow.keras.optimizers import Adam\n",
    "import numpy as np"
   ]
  },
  {
   "cell_type": "code",
   "execution_count": 2,
   "id": "4dc6998a-a02b-4df1-9295-15430764232c",
   "metadata": {},
   "outputs": [],
   "source": [
    "X=np.array([\n",
    "    [0.,0.],\n",
    "    [0.,1.],\n",
    "    [1.,0.],\n",
    "    [1.,1.]\n",
    "],dtype=\"float32\")"
   ]
  },
  {
   "cell_type": "code",
   "execution_count": 3,
   "id": "c06cc6cf-62c6-421b-a122-ae682887ec69",
   "metadata": {},
   "outputs": [
    {
     "data": {
      "text/plain": [
       "array([[0., 0.],\n",
       "       [0., 1.],\n",
       "       [1., 0.],\n",
       "       [1., 1.]], dtype=float32)"
      ]
     },
     "execution_count": 3,
     "metadata": {},
     "output_type": "execute_result"
    }
   ],
   "source": [
    "X"
   ]
  },
  {
   "cell_type": "code",
   "execution_count": 4,
   "id": "b4021c3a-b120-4475-bd48-f81ba5cc12b5",
   "metadata": {},
   "outputs": [],
   "source": [
    "y=np.array([0,0,0,1],dtype=\"int32\")"
   ]
  },
  {
   "cell_type": "code",
   "execution_count": 5,
   "id": "480e9e3d-1d5a-4648-8f99-b7ba77b5989f",
   "metadata": {},
   "outputs": [
    {
     "data": {
      "text/plain": [
       "array([0, 0, 0, 1])"
      ]
     },
     "execution_count": 5,
     "metadata": {},
     "output_type": "execute_result"
    }
   ],
   "source": [
    "y"
   ]
  },
  {
   "cell_type": "code",
   "execution_count": 6,
   "id": "27a6f668-7738-412b-a286-5f50b4cd28a3",
   "metadata": {},
   "outputs": [],
   "source": [
    "model=Sequential()\n",
    "model.add(Dense(1,input_dim=2,activation=\"sigmoid\"))"
   ]
  },
  {
   "cell_type": "code",
   "execution_count": 7,
   "id": "e4f6fd28-6d3d-44da-aeeb-9981dd72c427",
   "metadata": {},
   "outputs": [
    {
     "name": "stdout",
     "output_type": "stream",
     "text": [
      "Model: \"sequential\"\n",
      "_________________________________________________________________\n",
      " Layer (type)                Output Shape              Param #   \n",
      "=================================================================\n",
      " dense (Dense)               (None, 1)                 3         \n",
      "                                                                 \n",
      "=================================================================\n",
      "Total params: 3\n",
      "Trainable params: 3\n",
      "Non-trainable params: 0\n",
      "_________________________________________________________________\n"
     ]
    }
   ],
   "source": [
    "model.summary()"
   ]
  },
  {
   "cell_type": "code",
   "execution_count": 11,
   "id": "9a6f5885-70a4-4389-9ce5-efbe580e0662",
   "metadata": {},
   "outputs": [],
   "source": [
    "model.compile(loss='binary_crossentropy',optimizer=Adam(lr=0.1),metrics=['acc'])"
   ]
  },
  {
   "cell_type": "code",
   "execution_count": 12,
   "id": "b2dca373-1dea-4c96-9b88-28624abb7fca",
   "metadata": {},
   "outputs": [
    {
     "name": "stdout",
     "output_type": "stream",
     "text": [
      "Epoch 1/100\n",
      "1/1 [==============================] - 2s 2s/step - loss: 0.7789 - acc: 0.7500\n",
      "Epoch 2/100\n",
      "1/1 [==============================] - 0s 3ms/step - loss: 0.7470 - acc: 0.7500\n",
      "Epoch 3/100\n",
      "1/1 [==============================] - 0s 4ms/step - loss: 0.7161 - acc: 0.7500\n",
      "Epoch 4/100\n",
      "1/1 [==============================] - 0s 6ms/step - loss: 0.6863 - acc: 0.7500\n",
      "Epoch 5/100\n",
      "1/1 [==============================] - 0s 4ms/step - loss: 0.6577 - acc: 0.7500\n",
      "Epoch 6/100\n",
      "1/1 [==============================] - 0s 3ms/step - loss: 0.6302 - acc: 0.7500\n",
      "Epoch 7/100\n",
      "1/1 [==============================] - 0s 8ms/step - loss: 0.6040 - acc: 0.7500\n",
      "Epoch 8/100\n",
      "1/1 [==============================] - 0s 4ms/step - loss: 0.5789 - acc: 0.7500\n",
      "Epoch 9/100\n",
      "1/1 [==============================] - 0s 7ms/step - loss: 0.5551 - acc: 0.7500\n",
      "Epoch 10/100\n",
      "1/1 [==============================] - 0s 4ms/step - loss: 0.5324 - acc: 0.7500\n",
      "Epoch 11/100\n",
      "1/1 [==============================] - 0s 7ms/step - loss: 0.5109 - acc: 0.7500\n",
      "Epoch 12/100\n",
      "1/1 [==============================] - 0s 3ms/step - loss: 0.4906 - acc: 0.7500\n",
      "Epoch 13/100\n",
      "1/1 [==============================] - 0s 9ms/step - loss: 0.4714 - acc: 0.7500\n",
      "Epoch 14/100\n",
      "1/1 [==============================] - 0s 4ms/step - loss: 0.4532 - acc: 0.7500\n",
      "Epoch 15/100\n",
      "1/1 [==============================] - 0s 5ms/step - loss: 0.4361 - acc: 0.7500\n",
      "Epoch 16/100\n",
      "1/1 [==============================] - 0s 5ms/step - loss: 0.4199 - acc: 0.7500\n",
      "Epoch 17/100\n",
      "1/1 [==============================] - 0s 5ms/step - loss: 0.4047 - acc: 1.0000\n",
      "Epoch 18/100\n",
      "1/1 [==============================] - 0s 4ms/step - loss: 0.3902 - acc: 1.0000\n",
      "Epoch 19/100\n",
      "1/1 [==============================] - 0s 4ms/step - loss: 0.3766 - acc: 1.0000\n",
      "Epoch 20/100\n",
      "1/1 [==============================] - 0s 9ms/step - loss: 0.3637 - acc: 1.0000\n",
      "Epoch 21/100\n",
      "1/1 [==============================] - 0s 3ms/step - loss: 0.3515 - acc: 1.0000\n",
      "Epoch 22/100\n",
      "1/1 [==============================] - 0s 9ms/step - loss: 0.3400 - acc: 1.0000\n",
      "Epoch 23/100\n",
      "1/1 [==============================] - 0s 3ms/step - loss: 0.3290 - acc: 1.0000\n",
      "Epoch 24/100\n",
      "1/1 [==============================] - 0s 9ms/step - loss: 0.3186 - acc: 1.0000\n",
      "Epoch 25/100\n",
      "1/1 [==============================] - 0s 4ms/step - loss: 0.3088 - acc: 1.0000\n",
      "Epoch 26/100\n",
      "1/1 [==============================] - 0s 3ms/step - loss: 0.2994 - acc: 1.0000\n",
      "Epoch 27/100\n",
      "1/1 [==============================] - 0s 4ms/step - loss: 0.2905 - acc: 1.0000\n",
      "Epoch 28/100\n",
      "1/1 [==============================] - 0s 3ms/step - loss: 0.2821 - acc: 1.0000\n",
      "Epoch 29/100\n",
      "1/1 [==============================] - 0s 8ms/step - loss: 0.2741 - acc: 1.0000\n",
      "Epoch 30/100\n",
      "1/1 [==============================] - 0s 3ms/step - loss: 0.2665 - acc: 1.0000\n",
      "Epoch 31/100\n",
      "1/1 [==============================] - 0s 6ms/step - loss: 0.2593 - acc: 1.0000\n",
      "Epoch 32/100\n",
      "1/1 [==============================] - 0s 3ms/step - loss: 0.2524 - acc: 1.0000\n",
      "Epoch 33/100\n",
      "1/1 [==============================] - 0s 3ms/step - loss: 0.2458 - acc: 1.0000\n",
      "Epoch 34/100\n",
      "1/1 [==============================] - 0s 8ms/step - loss: 0.2396 - acc: 1.0000\n",
      "Epoch 35/100\n",
      "1/1 [==============================] - 0s 3ms/step - loss: 0.2336 - acc: 1.0000\n",
      "Epoch 36/100\n",
      "1/1 [==============================] - 0s 8ms/step - loss: 0.2279 - acc: 1.0000\n",
      "Epoch 37/100\n",
      "1/1 [==============================] - 0s 3ms/step - loss: 0.2224 - acc: 1.0000\n",
      "Epoch 38/100\n",
      "1/1 [==============================] - 0s 4ms/step - loss: 0.2171 - acc: 1.0000\n",
      "Epoch 39/100\n",
      "1/1 [==============================] - 0s 3ms/step - loss: 0.2121 - acc: 1.0000\n",
      "Epoch 40/100\n",
      "1/1 [==============================] - 0s 3ms/step - loss: 0.2073 - acc: 1.0000\n",
      "Epoch 41/100\n",
      "1/1 [==============================] - 0s 8ms/step - loss: 0.2027 - acc: 1.0000\n",
      "Epoch 42/100\n",
      "1/1 [==============================] - 0s 3ms/step - loss: 0.1982 - acc: 1.0000\n",
      "Epoch 43/100\n",
      "1/1 [==============================] - 0s 4ms/step - loss: 0.1940 - acc: 1.0000\n",
      "Epoch 44/100\n",
      "1/1 [==============================] - 0s 4ms/step - loss: 0.1899 - acc: 1.0000\n",
      "Epoch 45/100\n",
      "1/1 [==============================] - 0s 6ms/step - loss: 0.1859 - acc: 1.0000\n",
      "Epoch 46/100\n",
      "1/1 [==============================] - 0s 5ms/step - loss: 0.1821 - acc: 1.0000\n",
      "Epoch 47/100\n",
      "1/1 [==============================] - 0s 3ms/step - loss: 0.1784 - acc: 1.0000\n",
      "Epoch 48/100\n",
      "1/1 [==============================] - 0s 3ms/step - loss: 0.1749 - acc: 1.0000\n",
      "Epoch 49/100\n",
      "1/1 [==============================] - 0s 4ms/step - loss: 0.1715 - acc: 1.0000\n",
      "Epoch 50/100\n",
      "1/1 [==============================] - 0s 7ms/step - loss: 0.1682 - acc: 1.0000\n",
      "Epoch 51/100\n",
      "1/1 [==============================] - 0s 5ms/step - loss: 0.1650 - acc: 1.0000\n",
      "Epoch 52/100\n",
      "1/1 [==============================] - 0s 3ms/step - loss: 0.1619 - acc: 1.0000\n",
      "Epoch 53/100\n",
      "1/1 [==============================] - 0s 3ms/step - loss: 0.1590 - acc: 1.0000\n",
      "Epoch 54/100\n",
      "1/1 [==============================] - 0s 3ms/step - loss: 0.1561 - acc: 1.0000\n",
      "Epoch 55/100\n",
      "1/1 [==============================] - 0s 3ms/step - loss: 0.1533 - acc: 1.0000\n",
      "Epoch 56/100\n",
      "1/1 [==============================] - 0s 3ms/step - loss: 0.1506 - acc: 1.0000\n",
      "Epoch 57/100\n",
      "1/1 [==============================] - 0s 4ms/step - loss: 0.1480 - acc: 1.0000\n",
      "Epoch 58/100\n",
      "1/1 [==============================] - 0s 4ms/step - loss: 0.1454 - acc: 1.0000\n",
      "Epoch 59/100\n",
      "1/1 [==============================] - 0s 3ms/step - loss: 0.1430 - acc: 1.0000\n",
      "Epoch 60/100\n",
      "1/1 [==============================] - 0s 5ms/step - loss: 0.1406 - acc: 1.0000\n",
      "Epoch 61/100\n",
      "1/1 [==============================] - 0s 4ms/step - loss: 0.1383 - acc: 1.0000\n",
      "Epoch 62/100\n",
      "1/1 [==============================] - 0s 3ms/step - loss: 0.1360 - acc: 1.0000\n",
      "Epoch 63/100\n",
      "1/1 [==============================] - 0s 3ms/step - loss: 0.1338 - acc: 1.0000\n",
      "Epoch 64/100\n",
      "1/1 [==============================] - 0s 3ms/step - loss: 0.1317 - acc: 1.0000\n",
      "Epoch 65/100\n",
      "1/1 [==============================] - 0s 3ms/step - loss: 0.1296 - acc: 1.0000\n",
      "Epoch 66/100\n",
      "1/1 [==============================] - 0s 3ms/step - loss: 0.1276 - acc: 1.0000\n",
      "Epoch 67/100\n",
      "1/1 [==============================] - 0s 4ms/step - loss: 0.1256 - acc: 1.0000\n",
      "Epoch 68/100\n",
      "1/1 [==============================] - 0s 3ms/step - loss: 0.1237 - acc: 1.0000\n",
      "Epoch 69/100\n",
      "1/1 [==============================] - 0s 3ms/step - loss: 0.1218 - acc: 1.0000\n",
      "Epoch 70/100\n",
      "1/1 [==============================] - 0s 3ms/step - loss: 0.1200 - acc: 1.0000\n",
      "Epoch 71/100\n",
      "1/1 [==============================] - 0s 3ms/step - loss: 0.1182 - acc: 1.0000\n",
      "Epoch 72/100\n",
      "1/1 [==============================] - 0s 3ms/step - loss: 0.1165 - acc: 1.0000\n",
      "Epoch 73/100\n",
      "1/1 [==============================] - 0s 4ms/step - loss: 0.1148 - acc: 1.0000\n",
      "Epoch 74/100\n",
      "1/1 [==============================] - 0s 3ms/step - loss: 0.1132 - acc: 1.0000\n",
      "Epoch 75/100\n",
      "1/1 [==============================] - 0s 3ms/step - loss: 0.1116 - acc: 1.0000\n",
      "Epoch 76/100\n",
      "1/1 [==============================] - 0s 4ms/step - loss: 0.1100 - acc: 1.0000\n",
      "Epoch 77/100\n",
      "1/1 [==============================] - 0s 3ms/step - loss: 0.1085 - acc: 1.0000\n",
      "Epoch 78/100\n",
      "1/1 [==============================] - 0s 4ms/step - loss: 0.1070 - acc: 1.0000\n",
      "Epoch 79/100\n",
      "1/1 [==============================] - 0s 3ms/step - loss: 0.1055 - acc: 1.0000\n",
      "Epoch 80/100\n",
      "1/1 [==============================] - 0s 3ms/step - loss: 0.1041 - acc: 1.0000\n",
      "Epoch 81/100\n",
      "1/1 [==============================] - 0s 5ms/step - loss: 0.1027 - acc: 1.0000\n",
      "Epoch 82/100\n",
      "1/1 [==============================] - 0s 6ms/step - loss: 0.1013 - acc: 1.0000\n",
      "Epoch 83/100\n",
      "1/1 [==============================] - 0s 5ms/step - loss: 0.1000 - acc: 1.0000\n",
      "Epoch 84/100\n",
      "1/1 [==============================] - 0s 3ms/step - loss: 0.0987 - acc: 1.0000\n",
      "Epoch 85/100\n",
      "1/1 [==============================] - 0s 3ms/step - loss: 0.0974 - acc: 1.0000\n",
      "Epoch 86/100\n",
      "1/1 [==============================] - 0s 7ms/step - loss: 0.0961 - acc: 1.0000\n",
      "Epoch 87/100\n",
      "1/1 [==============================] - 0s 3ms/step - loss: 0.0949 - acc: 1.0000\n",
      "Epoch 88/100\n",
      "1/1 [==============================] - 0s 3ms/step - loss: 0.0937 - acc: 1.0000\n",
      "Epoch 89/100\n",
      "1/1 [==============================] - 0s 4ms/step - loss: 0.0925 - acc: 1.0000\n",
      "Epoch 90/100\n",
      "1/1 [==============================] - 0s 3ms/step - loss: 0.0914 - acc: 1.0000\n",
      "Epoch 91/100\n",
      "1/1 [==============================] - 0s 3ms/step - loss: 0.0902 - acc: 1.0000\n",
      "Epoch 92/100\n",
      "1/1 [==============================] - 0s 4ms/step - loss: 0.0891 - acc: 1.0000\n",
      "Epoch 93/100\n",
      "1/1 [==============================] - 0s 3ms/step - loss: 0.0880 - acc: 1.0000\n",
      "Epoch 94/100\n",
      "1/1 [==============================] - 0s 3ms/step - loss: 0.0870 - acc: 1.0000\n",
      "Epoch 95/100\n",
      "1/1 [==============================] - 0s 3ms/step - loss: 0.0859 - acc: 1.0000\n",
      "Epoch 96/100\n",
      "1/1 [==============================] - 0s 3ms/step - loss: 0.0849 - acc: 1.0000\n",
      "Epoch 97/100\n",
      "1/1 [==============================] - 0s 3ms/step - loss: 0.0839 - acc: 1.0000\n",
      "Epoch 98/100\n",
      "1/1 [==============================] - 0s 4ms/step - loss: 0.0829 - acc: 1.0000\n",
      "Epoch 99/100\n",
      "1/1 [==============================] - 0s 3ms/step - loss: 0.0819 - acc: 1.0000\n",
      "Epoch 100/100\n",
      "1/1 [==============================] - 0s 3ms/step - loss: 0.0810 - acc: 1.0000\n"
     ]
    },
    {
     "data": {
      "text/plain": [
       "<keras.callbacks.History at 0x15e4ad3b9a0>"
      ]
     },
     "execution_count": 12,
     "metadata": {},
     "output_type": "execute_result"
    }
   ],
   "source": [
    "model.fit(X,y,epochs=100)"
   ]
  },
  {
   "cell_type": "code",
   "execution_count": 13,
   "id": "71c56b06-b643-472a-ae16-25421c27454f",
   "metadata": {},
   "outputs": [
    {
     "name": "stdout",
     "output_type": "stream",
     "text": [
      "1/1 [==============================] - 0s 47ms/step\n"
     ]
    }
   ],
   "source": [
    "pred=model.predict(X)"
   ]
  },
  {
   "cell_type": "code",
   "execution_count": 14,
   "id": "9d8a4ba5-0159-4385-ae0c-e14e79797234",
   "metadata": {},
   "outputs": [
    {
     "data": {
      "text/plain": [
       "array([[0.00135916],\n",
       "       [0.08696259],\n",
       "       [0.09343671],\n",
       "       [0.87823844]], dtype=float32)"
      ]
     },
     "execution_count": 14,
     "metadata": {},
     "output_type": "execute_result"
    }
   ],
   "source": [
    "pred"
   ]
  },
  {
   "cell_type": "code",
   "execution_count": 15,
   "id": "11ddfb04-9aa3-4c87-9cc3-c4aadc6bdba5",
   "metadata": {},
   "outputs": [
    {
     "name": "stdout",
     "output_type": "stream",
     "text": [
      "===========================================\n",
      "predict01\n",
      "[[0]\n",
      " [0]\n",
      " [0]\n",
      " [1]]\n"
     ]
    }
   ],
   "source": [
    "predict01=np.where(pred>0.5,1,0)\n",
    "print(\"===========================================\")\n",
    "print(\"predict01\")\n",
    "print(predict01)"
   ]
  },
  {
   "cell_type": "code",
   "execution_count": 16,
   "id": "6b87c0e0-ad4f-4cae-a0ff-409461000e0f",
   "metadata": {},
   "outputs": [],
   "source": [
    "predict02=predict01.flatten()"
   ]
  },
  {
   "cell_type": "code",
   "execution_count": 17,
   "id": "f4240efa-7ff8-4938-889d-3fe865e63bb2",
   "metadata": {},
   "outputs": [
    {
     "data": {
      "text/plain": [
       "array([0, 0, 0, 1])"
      ]
     },
     "execution_count": 17,
     "metadata": {},
     "output_type": "execute_result"
    }
   ],
   "source": [
    "predict02"
   ]
  },
  {
   "cell_type": "code",
   "execution_count": 18,
   "id": "e5b0b476-1e1b-4419-a102-42d5e524151d",
   "metadata": {},
   "outputs": [],
   "source": [
    "predict03=(predict02==y)"
   ]
  },
  {
   "cell_type": "code",
   "execution_count": 19,
   "id": "c6c8d4e2-538c-4411-a7a3-0d495e1bef30",
   "metadata": {},
   "outputs": [
    {
     "data": {
      "text/plain": [
       "array([ True,  True,  True,  True])"
      ]
     },
     "execution_count": 19,
     "metadata": {},
     "output_type": "execute_result"
    }
   ],
   "source": [
    "predict03"
   ]
  },
  {
   "cell_type": "code",
   "execution_count": 20,
   "id": "c74d560f-1614-45a1-bbfc-c0398d54ff07",
   "metadata": {},
   "outputs": [
    {
     "data": {
      "text/plain": [
       "4"
      ]
     },
     "execution_count": 20,
     "metadata": {},
     "output_type": "execute_result"
    }
   ],
   "source": [
    "np.sum(predict03)"
   ]
  },
  {
   "cell_type": "code",
   "execution_count": 21,
   "id": "60d79e29-6912-4f62-85e5-3cbabd25b169",
   "metadata": {},
   "outputs": [],
   "source": [
    "acc=np.sum(predict03)/4"
   ]
  },
  {
   "cell_type": "code",
   "execution_count": 22,
   "id": "f8239a8b-8581-4d93-ba94-07f992912aa9",
   "metadata": {},
   "outputs": [
    {
     "data": {
      "text/plain": [
       "1.0"
      ]
     },
     "execution_count": 22,
     "metadata": {},
     "output_type": "execute_result"
    }
   ],
   "source": [
    "acc"
   ]
  },
  {
   "cell_type": "code",
   "execution_count": 23,
   "id": "d4921380-d6c9-44f2-8c1f-a374ffab0583",
   "metadata": {},
   "outputs": [
    {
     "name": "stdout",
     "output_type": "stream",
     "text": [
      "1/1 [==============================] - 0s 13ms/step\n"
     ]
    },
    {
     "data": {
      "text/plain": [
       "array([[0.08696259]], dtype=float32)"
      ]
     },
     "execution_count": 23,
     "metadata": {},
     "output_type": "execute_result"
    }
   ],
   "source": [
    "arr=np.array([[0,1]],dtype=\"float32\")\n",
    "pred=model.predict(arr)\n",
    "pred"
   ]
  },
  {
   "cell_type": "code",
   "execution_count": 24,
   "id": "edb6391a-3832-484b-b5c1-0a3004999fef",
   "metadata": {},
   "outputs": [
    {
     "name": "stdout",
     "output_type": "stream",
     "text": [
      "=======================================\n",
      "predict01\n",
      "[[0]]\n"
     ]
    }
   ],
   "source": [
    "predict01=np.where(pred>0.5,1,0)\n",
    "print(\"=======================================\")\n",
    "print(\"predict01\")\n",
    "print(predict01)"
   ]
  },
  {
   "cell_type": "code",
   "execution_count": 25,
   "id": "6f5e846c-673e-4a71-b8cb-76762339c2fb",
   "metadata": {},
   "outputs": [
    {
     "name": "stdout",
     "output_type": "stream",
     "text": [
      "1/1 [==============================] - 0s 15ms/step\n"
     ]
    },
    {
     "data": {
      "text/plain": [
       "array([[0.87823844]], dtype=float32)"
      ]
     },
     "execution_count": 25,
     "metadata": {},
     "output_type": "execute_result"
    }
   ],
   "source": [
    "arr=np.array([[1,1]],dtype=\"float32\")\n",
    "pred=model.predict(arr)\n",
    "pred"
   ]
  },
  {
   "cell_type": "code",
   "execution_count": 26,
   "id": "703cd77f-d410-42cb-86b0-df851a02c0f3",
   "metadata": {},
   "outputs": [
    {
     "name": "stdout",
     "output_type": "stream",
     "text": [
      "==================================\n",
      "predict01\n",
      "[[1]]\n"
     ]
    }
   ],
   "source": [
    "predict01=np.where(pred>0.5,1,0)\n",
    "print(\"==================================\")\n",
    "print(\"predict01\")\n",
    "print(predict01)"
   ]
  },
  {
   "cell_type": "code",
   "execution_count": null,
   "id": "ee08da61-ca84-4987-a1a2-0820cce6b9cc",
   "metadata": {},
   "outputs": [],
   "source": []
  }
 ],
 "metadata": {
  "kernelspec": {
   "display_name": "Python 3 (ipykernel)",
   "language": "python",
   "name": "python3"
  },
  "language_info": {
   "codemirror_mode": {
    "name": "ipython",
    "version": 3
   },
   "file_extension": ".py",
   "mimetype": "text/x-python",
   "name": "python",
   "nbconvert_exporter": "python",
   "pygments_lexer": "ipython3",
   "version": "3.10.15"
  }
 },
 "nbformat": 4,
 "nbformat_minor": 5
}
